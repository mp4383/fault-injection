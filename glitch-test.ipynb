{
 "cells": [
  {
   "cell_type": "code",
   "execution_count": null,
   "id": "6726e798",
   "metadata": {},
   "outputs": [],
   "source": [
    "# FAULTIER\n",
    "import faultier\n",
    "import serial\n",
    "ft = faultier.Faultier()\n",
    "ser = serial.Serial(ft.get_serial_path(), baudrate=115200)\n",
    "ser.timeout = 0.3\n",
    "\n",
    "ft.configure_glitcher(\n",
    "    power_cycle_output = faultier.OUT_MUX0,\n",
    "    power_cycle_length = 300000\n",
    ")\n",
    "\n",
    "ft.power_cycle()\n",
    "print(ser.read(5))"
   ]
  },
  {
   "cell_type": "code",
   "execution_count": null,
   "id": "5ce2d706",
   "metadata": {},
   "outputs": [],
   "source": [
    "ft.configure_glitcher(\n",
    "    trigger_source = faultier.TRIGGER_IN_EXT0,\n",
    "    trigger_type = faultier.TRIGGER_PULSE_POSITIVE\n",
    ")\n",
    "\n",
    "ft.glitch()"
   ]
  },
  {
   "cell_type": "code",
   "execution_count": null,
   "id": "0ff40770",
   "metadata": {},
   "outputs": [],
   "source": [
    "ft.configure_glitcher(\n",
    "    glitch_output = faultier.OUT_CROWBAR\n",
    ")\n",
    "\n",
    "ft.glitch(delay = 1000, pulse = 1)\n",
    "print(ser.read(3))"
   ]
  },
  {
   "cell_type": "code",
   "execution_count": null,
   "id": "805483c0",
   "metadata": {},
   "outputs": [],
   "source": [
    "for d in range(0, 100000):\n",
    "    for p in range(1,10):\n",
    "        # Flush serial data\n",
    "        if ser.in_waiting:\n",
    "            ser.read(ser.in_waiting)\n",
    "        \n",
    "        ft.glitch(delay = d, pulse = p)\n",
    "        data = ser.read(3)\n",
    "        if b\"X\" in data:\n",
    "            print(f\"Success! Delay: {d} Pulse: {p}\")\n",
    "            print(ser.read(50))"
   ]
  },
  {
   "cell_type": "code",
   "execution_count": null,
   "id": "09ca1c06",
   "metadata": {},
   "outputs": [],
   "source": [
    "ft.glitch(delay = 5, pulse = 6)\n",
    "data = ser.read(3)\n",
    "if b\"X\" in data:\n",
    "    print(f\"Success! Delay: {5} Pulse: {6}\")\n",
    "    print(ser.read(50))"
   ]
  },
  {
   "cell_type": "code",
   "execution_count": null,
   "id": "99991959",
   "metadata": {},
   "outputs": [],
   "source": []
  }
 ],
 "metadata": {
  "kernelspec": {
   "display_name": "faultier",
   "language": "python",
   "name": "python3"
  },
  "language_info": {
   "codemirror_mode": {
    "name": "ipython",
    "version": 3
   },
   "file_extension": ".py",
   "mimetype": "text/x-python",
   "name": "python",
   "nbconvert_exporter": "python",
   "pygments_lexer": "ipython3",
   "version": "3.13.6"
  }
 },
 "nbformat": 4,
 "nbformat_minor": 5
}
